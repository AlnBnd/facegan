{
  "nbformat": 4,
  "nbformat_minor": 0,
  "metadata": {
    "colab": {
      "name": "face_3d.ipynb",
      "provenance": [],
      "authorship_tag": "ABX9TyOBjifkTsa6NdtsmJcaZHsp",
      "include_colab_link": true
    },
    "kernelspec": {
      "name": "python3",
      "display_name": "Python 3"
    }
  },
  "cells": [
    {
      "cell_type": "markdown",
      "metadata": {
        "id": "view-in-github",
        "colab_type": "text"
      },
      "source": [
        "<a href=\"https://colab.research.google.com/github/AlnBnd/facegan/blob/master/face_3d.ipynb\" target=\"_parent\"><img src=\"https://colab.research.google.com/assets/colab-badge.svg\" alt=\"Open In Colab\"/></a>"
      ]
    },
    {
      "cell_type": "code",
      "metadata": {
        "colab": {
          "base_uri": "https://localhost:8080/"
        },
        "id": "DznX9RL-SOml",
        "outputId": "d545054c-cd30-4e02-a403-0b882ad7739c"
      },
      "source": [
        "!git clone https://github.com/AlnBnd/facegan.git"
      ],
      "execution_count": 1,
      "outputs": [
        {
          "output_type": "stream",
          "text": [
            "Cloning into 'facegan'...\n",
            "remote: Enumerating objects: 70, done.\u001b[K\n",
            "remote: Counting objects: 100% (70/70), done.\u001b[K\n",
            "remote: Compressing objects: 100% (63/63), done.\u001b[K\n",
            "remote: Total 304 (delta 21), reused 34 (delta 5), pack-reused 234\u001b[K\n",
            "Receiving objects: 100% (304/304), 109.85 MiB | 39.36 MiB/s, done.\n",
            "Resolving deltas: 100% (36/36), done.\n"
          ],
          "name": "stdout"
        }
      ]
    },
    {
      "cell_type": "code",
      "metadata": {
        "colab": {
          "base_uri": "https://localhost:8080/"
        },
        "id": "MPJKXje6ZByr",
        "outputId": "4d33b6d1-ed12-4121-c2cd-0fb3b08ff18e"
      },
      "source": [
        "%cd /content/facegan/face3d\r\n",
        "%mkdir -p Data/BFM/Out"
      ],
      "execution_count": 2,
      "outputs": [
        {
          "output_type": "stream",
          "text": [
            "/content/facegan/face3d\n"
          ],
          "name": "stdout"
        }
      ]
    },
    {
      "cell_type": "code",
      "metadata": {
        "colab": {
          "base_uri": "https://localhost:8080/"
        },
        "id": "FgFfKLe9Y7md",
        "outputId": "2f283e97-8b38-4c94-9d45-fe74d4a6dae9"
      },
      "source": [
        "!pip install -U -q PyDrive\r\n",
        "import os\r\n",
        "from pydrive.auth import GoogleAuth\r\n",
        "from pydrive.drive import GoogleDrive\r\n",
        "from google.colab import auth\r\n",
        "from oauth2client.client import GoogleCredentials\r\n",
        "\r\n",
        "\r\n",
        "# 1. Authenticate and create the PyDrive client.\r\n",
        "auth.authenticate_user()\r\n",
        "gauth = GoogleAuth()\r\n",
        "gauth.credentials = GoogleCredentials.get_application_default()\r\n",
        "drive = GoogleDrive(gauth)\r\n",
        "\r\n",
        "\r\n",
        "\r\n",
        "# choose a local (colab) directory to store the data.\r\n",
        "local_download_path = os.path.expanduser('Data/BFM/Out')\r\n",
        "try:\r\n",
        "  os.makedirs(local_download_path)\r\n",
        "except: pass\r\n",
        "\r\n",
        "\r\n",
        "\r\n",
        "# 2. Auto-iterate using the query syntax\r\n",
        "#    https://developers.google.com/drive/v2/web/search-parameters\r\n",
        "file_list = drive.ListFile(\r\n",
        "    {'q': \"'1lEc4TNBzArwP5jjRgqIDUJo7VCPMX4Kf' in parents\"}).GetList()\r\n",
        "\r\n",
        "\r\n",
        "\r\n",
        "for f in file_list:\r\n",
        "  # 3. Create & download by id.\r\n",
        "  print('title: %s, id: %s' % (f['title'], f['id']))\r\n",
        "  fname = os.path.join(local_download_path, f['title'])\r\n",
        "  print('downloading to {}'.format(fname))\r\n",
        "  f_ = drive.CreateFile({'id': f['id']})\r\n",
        "  f_.GetContentFile(fname)\r\n"
      ],
      "execution_count": 3,
      "outputs": [
        {
          "output_type": "stream",
          "text": [
            "title: BFM_info.mat, id: 137oHUYiGOKwY2LgGY3f6LPVmlyVk8llq\n",
            "downloading to Data/BFM/Out/BFM_info.mat\n",
            "title: BFM_UV.mat, id: 1mucZmHr4gWcYb4B9rU5VEFZl9nRsTjuI\n",
            "downloading to Data/BFM/Out/BFM_UV.mat\n",
            "title: BFM.mat, id: 11PM5IRI4LH3blHRbTwSYhjPux1VoEOSQ\n",
            "downloading to Data/BFM/Out/BFM.mat\n",
            "title: pncc_code.mat, id: 1AymlFQkfe7oEuf1WDVovkGJYxlhGVFp5\n",
            "downloading to Data/BFM/Out/pncc_code.mat\n"
          ],
          "name": "stdout"
        }
      ]
    },
    {
      "cell_type": "code",
      "metadata": {
        "colab": {
          "base_uri": "https://localhost:8080/"
        },
        "id": "oZc4jsCXZe08",
        "outputId": "99929202-16a6-42ac-f28d-811eacaa787e"
      },
      "source": [
        "%mkdir models\r\n",
        "%cd /content/facegan/face3d/models\r\n",
        "!wget http://dlib.net/files/shape_predictor_68_face_landmarks.dat.bz2"
      ],
      "execution_count": 10,
      "outputs": [
        {
          "output_type": "stream",
          "text": [
            "mkdir: cannot create directory ‘models’: File exists\n",
            "/content/facegan/face3d/models\n",
            "--2021-02-28 11:32:53--  http://dlib.net/files/shape_predictor_68_face_landmarks.dat.bz2\n",
            "Resolving dlib.net (dlib.net)... 107.180.26.78\n",
            "Connecting to dlib.net (dlib.net)|107.180.26.78|:80... connected.\n",
            "HTTP request sent, awaiting response... 200 OK\n",
            "Length: 64040097 (61M)\n",
            "Saving to: ‘shape_predictor_68_face_landmarks.dat.bz2.1’\n",
            "\n",
            "shape_predictor_68_ 100%[===================>]  61.07M  19.4MB/s    in 3.9s    \n",
            "\n",
            "2021-02-28 11:32:57 (15.7 MB/s) - ‘shape_predictor_68_face_landmarks.dat.bz2.1’ saved [64040097/64040097]\n",
            "\n"
          ],
          "name": "stdout"
        }
      ]
    },
    {
      "cell_type": "code",
      "metadata": {
        "id": "XfeJTM1ead19"
      },
      "source": [
        "!bunzip2 /content/facegan/face3d/models/shape_predictor_68_face_landmarks.dat.bz2"
      ],
      "execution_count": 11,
      "outputs": []
    },
    {
      "cell_type": "code",
      "metadata": {
        "colab": {
          "base_uri": "https://localhost:8080/"
        },
        "id": "fxGSYLJgZn3_",
        "outputId": "c4144bd8-3807-497a-87c4-7ce3eb20792e"
      },
      "source": [
        "%cd /content/facegan"
      ],
      "execution_count": 12,
      "outputs": [
        {
          "output_type": "stream",
          "text": [
            "/content/facegan\n"
          ],
          "name": "stdout"
        }
      ]
    },
    {
      "cell_type": "code",
      "metadata": {
        "colab": {
          "base_uri": "https://localhost:8080/"
        },
        "id": "TGnrTJ9gZi_3",
        "outputId": "2477a084-7e02-49c6-ac72-0b58149fb18b"
      },
      "source": [
        "!python generate_image_map.py --save_dir colab_3d_face --save_lmk_dir colab_3d_face --img_list results/param/file_list.txt"
      ],
      "execution_count": 17,
      "outputs": [
        {
          "output_type": "stream",
          "text": [
            "100% 2/2 [01:57<00:00, 58.75s/it]\n"
          ],
          "name": "stdout"
        }
      ]
    },
    {
      "cell_type": "code",
      "metadata": {
        "id": "yw9Rc2C0aAMB"
      },
      "source": [
        ""
      ],
      "execution_count": null,
      "outputs": []
    }
  ]
}